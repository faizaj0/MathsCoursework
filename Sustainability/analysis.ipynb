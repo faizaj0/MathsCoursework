{
 "cells": [
  {
   "cell_type": "code",
   "execution_count": 2,
   "metadata": {},
   "outputs": [],
   "source": [
    "import csv\n",
    "def keep_columns(input_csv, output_csv, columns_to_keep):\n",
    "    \"\"\"\n",
    "    Create a new CSV by keeping only specified columns from the original CSV.\n",
    "\n",
    "    Parameters:\n",
    "    input_csv (str): Path to the input CSV file.\n",
    "    output_csv (str): Path to the output CSV file.\n",
    "    columns_to_keep (list): List of column names to be kept.\n",
    "    \"\"\"\n",
    "    with open(input_csv, mode='r', newline='', encoding='utf-8') as infile:\n",
    "        reader = csv.DictReader(infile)\n",
    "        # Ensure only valid columns are used\n",
    "        valid_columns = [col for col in columns_to_keep if col in reader.fieldnames]\n",
    "\n",
    "        with open(output_csv, mode='w', newline='', encoding='utf-8') as outfile:\n",
    "            writer = csv.DictWriter(outfile, fieldnames=valid_columns)\n",
    "            writer.writeheader()\n",
    "\n",
    "            for row in reader:\n",
    "                # Write rows with only the valid columns to keep\n",
    "                filtered_row = {col: row[col] for col in valid_columns}\n",
    "                writer.writerow(filtered_row)\n",
    "\n",
    "# Example usage\n",
    "input_csv = 'AllEmissions.csv'  # Path to the existing CSV file\n",
    "output_csv = 'AllEmissionsFinal.csv'  # Path to the new CSV file\n",
    "columns_to_keep = ['project_name', 'duration', 'emissions', 'emissions_rate', 'energy_consumed']  # Columns you want to keep\n",
    "\n",
    "keep_columns(input_csv, output_csv, columns_to_keep)"
   ]
  },
  {
   "cell_type": "code",
   "execution_count": 8,
   "metadata": {},
   "outputs": [
    {
     "name": "stdout",
     "output_type": "stream",
     "text": [
      "\\begin{table}\n",
      "\\caption{Sustainability metrics of the model training experiments.}\n",
      "\\label{sust-table}\n",
      "\\begin{tabular}{lccrrr}\n",
      "\\toprule\n",
      "Model & Emissions & Emissions rate & Energy consumed & Duration \\\\\n",
      "\\midrule\n",
      "NeuralNet_Kryptonite_9 & 107.80 & 6.40e-04 & 5.94e-06 & 1.41e-03 \\\\\n",
      "NeuralNet_Kryptonite_12 & 177.61 & 1.05e-03 & 5.94e-06 & 2.33e-03 \\\\\n",
      "NeuralNet_Kryptonite_15 & 299.15 & 1.78e-03 & 5.94e-06 & 3.92e-03 \\\\\n",
      "Kryptonite-9-Extra-Trees & 430.18 & 1.23e-03 & 2.87e-06 & 5.64e-03 \\\\\n",
      "Kryptonite-12-Extra-Trees & 1546.53 & 5.79e-03 & 3.75e-06 & 2.03e-02 \\\\\n",
      "Kryptonite-15-Extra-Trees & 2469.56 & 2.52e-02 & 1.02e-05 & 3.92e-02 \\\\\n",
      "DeepResNet-Training-18 & 173.11 & 3.08e-03 & 1.78e-05 & 6.55e-03 \\\\\n",
      "DeepResNet-Training-18 & 137.94 & 2.47e-03 & 1.79e-05 & 5.24e-03 \\\\\n",
      "DeepResNet-Training-18 & 198.88 & 3.45e-03 & 1.73e-05 & 7.32e-03 \\\\\n",
      "DeepResNet-Training-24 & 173.11 & 3.08e-03 & 1.78e-05 & 6.55e-03 \\\\\n",
      "DeepResNet-Training-24 & 137.94 & 2.47e-03 & 1.79e-05 & 5.24e-03 \\\\\n",
      "\\bottomrule\n",
      "\\end{tabular}\n",
      "\\end{table}\n",
      "\n"
     ]
    }
   ],
   "source": [
    "import pandas as pd\n",
    "\n",
    "# Load the CSV file\n",
    "data = pd.read_csv('AllEmissionsFinal.csv')\n",
    "\n",
    "# Convert the numbers to scientific notation\n",
    "for col in ['emissions', 'emissions_rate', 'energy_consumed', 'duration']:\n",
    "    data[col] = data[col].apply(lambda x: f\"{x:.2e}\" if x < 1 else f\"{x:.2f}\")\n",
    "\n",
    "# Generate LaTeX table\n",
    "latex_table = data.to_latex(\n",
    "    index=False,\n",
    "    header=[\"Model\", \"Emissions\", \"Emissions rate\", \"Energy consumed\", \"Duration\"],\n",
    "    column_format=\"lccrrr\",\n",
    "    escape=False,\n",
    "    caption=\"Sustainability metrics of the model training experiments.\",\n",
    "    label=\"sust-table\"\n",
    ")\n",
    "\n",
    "print(latex_table)\n"
   ]
  }
 ],
 "metadata": {
  "kernelspec": {
   "display_name": ".venv",
   "language": "python",
   "name": "python3"
  },
  "language_info": {
   "codemirror_mode": {
    "name": "ipython",
    "version": 3
   },
   "file_extension": ".py",
   "mimetype": "text/x-python",
   "name": "python",
   "nbconvert_exporter": "python",
   "pygments_lexer": "ipython3",
   "version": "3.12.4"
  }
 },
 "nbformat": 4,
 "nbformat_minor": 2
}
